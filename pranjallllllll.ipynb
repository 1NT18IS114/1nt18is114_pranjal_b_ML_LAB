{
 "cells": [
  {
   "cell_type": "code",
   "execution_count": null,
   "metadata": {},
   "outputs": [
    {
     "name": "stdout",
     "output_type": "stream",
     "text": [
      "enter the size5\n"
     ]
    }
   ],
   "source": [
    "\n",
    "\n",
    "\n",
    "n=int(input(\"enter the size\"))\n",
    "\n",
    "\n",
    "\n",
    "\n",
    "\n",
    "arr=[None]*n\n",
    "for i in range(n):\n",
    "    val=int(input(\"enter the value\"))\n",
    "    arr[i]=val\n",
    "print(arr)\n",
    "\n",
    "\n",
    "\n",
    "\n",
    "\n",
    "sum=0\n",
    "for i in range(n):\n",
    "    sum+=arr[i]\n",
    "mean=sum/n    \n",
    "print(\"mean is \",sum/n)    \n",
    "\n",
    "\n",
    "\n",
    "\n",
    "\n",
    "if(n%2==0):\n",
    "    print(\"medianis \",(arr[n//2]+arr[(n//2)-1])/2)\n",
    "else:\n",
    "    print(\"median is\",arr[n//2])\n",
    "\n",
    "\n",
    "\n",
    "\n",
    "\n",
    "## min max normalization\n",
    "min=arr[0]\n",
    "max=arr[0]\n",
    "for i in range(n):\n",
    "    if arr[i]<min:\n",
    "        min=arr[i]\n",
    "    if arr[i]>max:\n",
    "        max=arr[i]\n",
    "print(min,max)\n",
    "\n",
    "for i in range(n):\n",
    "    val=(arr[i]-min)/(max-min)\n",
    "    print(\"normalization value is \",val)\n",
    "import math\n",
    "summ2=0\n",
    "for i in arr:\n",
    "    summ2=summ2+((i-mean)**2)\n",
    "ans=math.sqrt(summ2/n)\n",
    "print(\"std deviation \",ans) \n",
    "for i in range(n):\n",
    "    val=(arr[i]-mean)/ans\n",
    "    print(\"standardization \",val)\n",
    "\n",
    "\n",
    "\n",
    "\n",
    "\n",
    "\n"
   ]
  },
  {
   "cell_type": "code",
   "execution_count": null,
   "metadata": {},
   "outputs": [],
   "source": [
    "import math\n",
    "rx=6.2\n",
    "ry=3.2\n",
    "bx=6.5\n",
    "by=3.0\n",
    "gx=6.6\n",
    "gy=3.7\n",
    "for i in range(10):\n",
    "    x=input(\"enter x\")\n",
    "    y=(input(\"enter y\"))\n",
    "    distR=math.sqrt(((rx-x)**2)+((ry-y)**2))\n",
    "    distB=math.sqrt(((bx-x)**2)+((by-y)**2))\n",
    "    distG=math.sqrt(((gx-x)**2)+((gy-y)**2))\n",
    "    if(distR<=distB and distR<=distG):\n",
    "        print(\"It belongs to red cluster \")\n",
    "    elif(distB<=distR and distB<=distG):\n",
    "        print(\"Its belongs to blue cluster\")\n",
    "    else:\n",
    "        print(\"It belongs to green cluster\")\n",
    "    \n",
    "    "
   ]
  },
  {
   "cell_type": "code",
   "execution_count": null,
   "metadata": {},
   "outputs": [],
   "source": []
  },
  {
   "cell_type": "code",
   "execution_count": null,
   "metadata": {},
   "outputs": [],
   "source": []
  }
 ],
 "metadata": {
  "kernelspec": {
   "display_name": "Python 3",
   "language": "python",
   "name": "python3"
  },
  "language_info": {
   "codemirror_mode": {
    "name": "ipython",
    "version": 3
   },
   "file_extension": ".py",
   "mimetype": "text/x-python",
   "name": "python",
   "nbconvert_exporter": "python",
   "pygments_lexer": "ipython3",
   "version": "3.7.4"
  }
 },
 "nbformat": 4,
 "nbformat_minor": 2
}

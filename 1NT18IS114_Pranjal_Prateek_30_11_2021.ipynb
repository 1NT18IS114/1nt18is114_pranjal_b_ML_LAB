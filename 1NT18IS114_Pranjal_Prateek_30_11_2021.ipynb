{
 "cells": [
  {
   "cell_type": "code",
   "execution_count": 14,
   "metadata": {},
   "outputs": [
    {
     "name": "stdout",
     "output_type": "stream",
     "text": [
      "It belongs to red cluster \n",
      "It belongs to red cluster \n",
      "Its belongs to blue cluster\n",
      "It belongs to red cluster \n",
      "It belongs to green cluster\n",
      "It belongs to red cluster \n",
      "It belongs to red cluster \n",
      "Its belongs to blue cluster\n",
      "It belongs to red cluster \n",
      "It belongs to red cluster \n"
     ]
    }
   ],
   "source": [
    "import math\n",
    "mat=[[5.9,3.2],[4.6,2.9],[6.2,2.8],[4.7,3.2],[5.5,4.2],[5.0,3.0],[4.9,3.2],[6.7,3.1],[5.1,3.8],[6.0,3.0]]\n",
    "rx=6.2\n",
    "ry=3.2\n",
    "bx=6.5\n",
    "by=3.0\n",
    "gx=6.6\n",
    "gy=3.7\n",
    "addrx=0\n",
    "addry=0\n",
    "rcount=0\n",
    "addbx=0\n",
    "addby=0\n",
    "bcount=0\n",
    "addgx=0\n",
    "addgy=0\n",
    "gcount=0\n",
    "\n",
    "for q in mat:\n",
    "    distR=math.sqrt(((rx-q[0])**2)+((ry-q[1])**2))\n",
    "    distB=math.sqrt(((bx-q[0])**2)+((by-q[1])**2))\n",
    "    distG=math.sqrt(((gx-q[0])**2)+((gy-q[1])**2))\n",
    "    if(distR<=distB and distR<=distG):\n",
    "        print(\"It belongs to red cluster \")\n",
    "        addrx=addrx+q[0]\n",
    "        addry=addry+q[1]\n",
    "        rcount=rcount+1\n",
    "    elif(distB<=distR and distB<=distG):\n",
    "        print(\"Its belongs to blue cluster\")\n",
    "        addbx=addbx+q[0]\n",
    "        addby=addby+q[1]\n",
    "        bcount=bcount+1\n",
    "    else:\n",
    "        print(\"It belongs to green cluster\")\n",
    "        addgx=addgx+q[0]\n",
    "        addgy=addgy+q[1]\n",
    "        gcount=gcount+1\n",
    "# print(\"avgX \",(addx)/count)\n",
    "# print(\"avgY \",(addy)/count)\n",
    "    "
   ]
  },
  {
   "cell_type": "code",
   "execution_count": 15,
   "metadata": {},
   "outputs": [
    {
     "name": "stdout",
     "output_type": "stream",
     "text": [
      "centroid of the red co-ordinate 5.171428571428572\n",
      "centroid of the red co-ordinate 3.185714285714286\n",
      "centroid of the red co-ordinate 6.45\n",
      "centroid of the red co-ordinate 2.95\n",
      "centroid of the red co-ordinate 5.5\n",
      "centroid of the red co-ordinate 4.2\n"
     ]
    }
   ],
   "source": [
    "print(\"centroid of the red co-ordinate\",addrx/rcount)\n",
    "print(\"centroid of the red co-ordinate\",addry/rcount)\n",
    "print(\"centroid of the red co-ordinate\",addbx/bcount)\n",
    "print(\"centroid of the red co-ordinate\",addby/bcount)\n",
    "print(\"centroid of the red co-ordinate\",addgx/gcount)\n",
    "print(\"centroid of the red co-ordinate\",addgy/gcount)"
   ]
  },
  {
   "cell_type": "code",
   "execution_count": 8,
   "metadata": {},
   "outputs": [
    {
     "name": "stdout",
     "output_type": "stream",
     "text": [
      "enter x 5.9\n",
      "enter y 3.2\n",
      "It belongs to red cluster \n",
      "enter x 4.6\n",
      "enter y 2.9\n",
      "It belongs to green cluster\n",
      "enter x 6.2\n",
      "enter y 2.8\n",
      "Its belongs to blue cluster\n",
      "enter x 4.7\n",
      "enter y 3.2\n",
      "It belongs to green cluster\n",
      "enter x 5.5\n",
      "enter y 4.2\n",
      "It belongs to green cluster\n",
      "enter x 5.0\n",
      "enter y 3.0\n",
      "It belongs to red cluster \n",
      "enter x 4.9\n",
      "enter y 3.2\n",
      "It belongs to green cluster\n",
      "enter x 6.7\n",
      "enter y 3.1\n",
      "Its belongs to blue cluster\n",
      "enter x 5.1\n",
      "enter y 3.8\n",
      "It belongs to green cluster\n",
      "enter x 6.0\n",
      "enter y 3.0\n",
      "It belongs to red cluster \n"
     ]
    }
   ],
   "source": [
    "import math\n",
    "\n",
    "rx=6.2\n",
    "ry=3.2\n",
    "bx=6.5\n",
    "by=3.0\n",
    "gx=addgx/gcount\n",
    "gy=addgy/gcount\n",
    "addrx=0\n",
    "addry=0\n",
    "rcount=0\n",
    "addbx=0\n",
    "addby=0\n",
    "bcount=0\n",
    "addgx=0\n",
    "addgy=0\n",
    "gcount=0\n",
    "# for row in mat:\n",
    "#     for col in mat:\n",
    "#         print(mat[row][col])\n",
    "for i in range(10):\n",
    "    x=float(input(\"enter x \"))\n",
    "    y=float(input(\"enter y \"))\n",
    "    distR=math.sqrt(((rx-x)**2)+((ry-y)**2))\n",
    "    distB=math.sqrt(((bx-x)**2)+((by-y)**2))\n",
    "    distG=math.sqrt(((gx-x)**2)+((gy-y)**2))\n",
    "    if(distR<=distB and distR<=distG):\n",
    "        print(\"It belongs to red cluster \")\n",
    "        addrx=addrx+x\n",
    "        addry=addry+y\n",
    "        rcount=rcount+1\n",
    "    elif(distB<=distR and distB<=distG):\n",
    "        print(\"Its belongs to blue cluster\")\n",
    "        addbx=addbx+x\n",
    "        addby=addby+y\n",
    "        bcount=bcount+1\n",
    "    else:\n",
    "        print(\"It belongs to green cluster\")\n",
    "        addgx=addgx+x\n",
    "        addgy=addgy+y\n",
    "        gcount=gcount+1\n",
    "# print(\"avgX \",(addx)/count)\n",
    "# print(\"avgY \",(addy)/count)\n",
    "    # mat=[[5.9,3.2],[4.6,2.9],[6.2,2.8],[4.7,3.2],[5.5,4.2],[5.0,3.0],[4.9,3.2],[6.7,3.1],[5.1,3.8],[6.0,3.0]]"
   ]
  },
  {
   "cell_type": "code",
   "execution_count": 10,
   "metadata": {},
   "outputs": [
    {
     "name": "stdout",
     "output_type": "stream",
     "text": [
      "centroid of the red co-ordinate 5.633333333333333\n",
      "centroid of the red co-ordinate 3.0666666666666664\n",
      "centroid of the blue co-ordinate 6.45\n",
      "centroid of the blue co-ordinate 2.95\n",
      "centroid of the green co-ordinate 4.960000000000001\n",
      "centroid of the green co-ordinate 3.46\n"
     ]
    }
   ],
   "source": [
    "print(\"centroid of the red co-ordinate\",addrx/rcount)\n",
    "print(\"centroid of the red co-ordinate\",addry/rcount)\n",
    "print(\"centroid of the blue co-ordinate\",addbx/bcount)\n",
    "print(\"centroid of the blue co-ordinate\",addby/bcount)\n",
    "print(\"centroid of the green co-ordinate\",addgx/gcount)\n",
    "print(\"centroid of the green co-ordinate\",addgy/gcount)"
   ]
  },
  {
   "cell_type": "code",
   "execution_count": null,
   "metadata": {},
   "outputs": [],
   "source": []
  }
 ],
 "metadata": {
  "kernelspec": {
   "display_name": "Python 3",
   "language": "python",
   "name": "python3"
  },
  "language_info": {
   "codemirror_mode": {
    "name": "ipython",
    "version": 3
   },
   "file_extension": ".py",
   "mimetype": "text/x-python",
   "name": "python",
   "nbconvert_exporter": "python",
   "pygments_lexer": "ipython3",
   "version": "3.7.4"
  }
 },
 "nbformat": 4,
 "nbformat_minor": 2
}
